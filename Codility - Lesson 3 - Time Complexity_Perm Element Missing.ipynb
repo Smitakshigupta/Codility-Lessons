{
 "cells": [
  {
   "cell_type": "code",
   "execution_count": 8,
   "metadata": {},
   "outputs": [
    {
     "name": "stdout",
     "output_type": "stream",
     "text": [
      "4\n",
      "10\n",
      "1\n"
     ]
    }
   ],
   "source": [
    "def solution(A):\n",
    "    actual_sum = 0\n",
    "    for number in A:\n",
    "        actual_sum += number\n",
    "    max_number = len(A) + 1\n",
    "    expected_sum = (max_number * (max_number + 1) // 2)\n",
    "    return expected_sum - actual_sum\n",
    "\n",
    "\n",
    "print(solution([2, 3, 1, 5]))\n",
    "\n",
    "print(solution([1, 2, 3, 4, 5, 6, 7, 8, 9]))\n",
    "\n",
    "print(solution([]))"
   ]
  },
  {
   "cell_type": "markdown",
   "metadata": {},
   "source": [
    "Perm Missing Element - Find the missing element in a given permutation."
   ]
  },
  {
   "cell_type": "code",
   "execution_count": 10,
   "metadata": {
    "scrolled": false
   },
   "outputs": [
    {
     "name": "stdout",
     "output_type": "stream",
     "text": [
      "4\n",
      "10\n",
      "1\n"
     ]
    }
   ],
   "source": [
    "#Method 2 - less score solution\n",
    "\n",
    "def solution(A):\n",
    "    length = len(A)\n",
    "    xor_sum = 0\n",
    "    for index in range(0, length):\n",
    "        xor_sum = xor_sum ^ A[index] ^ (index + 1)\n",
    "    return xor_sum^(length + 1)\n",
    "\n",
    "print(solution([2, 3, 1, 5]))\n",
    "\n",
    "print(solution([1, 2, 3, 4, 5, 6, 7, 8, 9]))\n",
    "\n",
    "print(solution([]))\n"
   ]
  },
  {
   "cell_type": "markdown",
   "metadata": {},
   "source": [
    "Write a function:\n",
    "\n",
    "def solution(A)\n",
    "\n",
    "that, given an array A of N integers, returns the smallest positive integer (greater than 0) that does not occur in A.\n",
    "\n",
    "For example, given A = [1, 3, 6, 4, 1, 2], the function should return 5.\n",
    "\n",
    "Given A = [1, 2, 3], the function should return 4.\n",
    "\n",
    "Given A = [−1, −3], the function should return 1.\n",
    "\n",
    "Write an efficient algorithm for the following assumptions:\n",
    "\n",
    "N is an integer within the range [1..100,000];\n",
    "each element of array A is an integer within the range [−1,000,000..1,000,000]."
   ]
  },
  {
   "cell_type": "code",
   "execution_count": null,
   "metadata": {},
   "outputs": [],
   "source": [
    "def solution(A):\n",
    "    A.sort()\n",
    "    N = len(A)\n",
    "    \n",
    "    i = 0\n",
    "    previous = 0\n",
    "    while i < N:\n",
    "        current = A[i]\n",
    "\n",
    "        if current > 0:\n",
    "            if current > previous + 1: # breaks consecutiveness\n",
    "                return previous + 1\n",
    "            else:\n",
    "                previous = current\n",
    "        \n",
    "        i += 1\n",
    "    \n",
    "    return max(previous+1, current+1)"
   ]
  }
 ],
 "metadata": {
  "kernelspec": {
   "display_name": "Python 3",
   "language": "python",
   "name": "python3"
  },
  "language_info": {
   "codemirror_mode": {
    "name": "ipython",
    "version": 3
   },
   "file_extension": ".py",
   "mimetype": "text/x-python",
   "name": "python",
   "nbconvert_exporter": "python",
   "pygments_lexer": "ipython3",
   "version": "3.7.3"
  }
 },
 "nbformat": 4,
 "nbformat_minor": 2
}
